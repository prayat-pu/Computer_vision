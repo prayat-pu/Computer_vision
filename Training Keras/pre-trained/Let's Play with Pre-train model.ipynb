{
 "cells": [
  {
   "cell_type": "markdown",
   "metadata": {},
   "source": [
    "## Pre-trained ResNet50"
   ]
  },
  {
   "cell_type": "code",
   "execution_count": 4,
   "metadata": {},
   "outputs": [],
   "source": [
    "from keras.applications.resnet50 import ResNet50\n",
    "from keras.preprocessing import image\n",
    "from keras.applications.resnet50 import preprocess_input,decode_predictions\n",
    "\n",
    "resnet_model = ResNet50(weights='imagenet')"
   ]
  },
  {
   "cell_type": "code",
   "execution_count": 28,
   "metadata": {},
   "outputs": [],
   "source": [
    "import numpy as np\n",
    "import cv2\n",
    "test_img_path ='test_image/dog.jpg'\n",
    "\n",
    "img = image.load_img(test_img_path,target_size=(224,224))\n",
    "x = image.img_to_array(img)\n",
    "x = np.expand_dims(x,axis=0)\n",
    "x = preprocess_input(x)\n",
    "\n",
    "preds = resnet_model.predict(x)\n",
    "\n",
    "# print('Predicted: ',)"
   ]
  },
  {
   "cell_type": "code",
   "execution_count": 30,
   "metadata": {},
   "outputs": [
    {
     "name": "stdout",
     "output_type": "stream",
     "text": [
      "predicted:  [('n02100583', 'vizsla', 0.5173441), ('n02092339', 'Weimaraner', 0.33023554), ('n02099849', 'Chesapeake_Bay_retriever', 0.07825676)]\n"
     ]
    }
   ],
   "source": [
    "print('predicted: ',decode_predictions(preds,top=3)[0])"
   ]
  },
  {
   "cell_type": "markdown",
   "metadata": {},
   "source": [
    "## test some image"
   ]
  },
  {
   "cell_type": "code",
   "execution_count": 58,
   "metadata": {},
   "outputs": [],
   "source": [
    "def draw_test(name,predictions,input_im):\n",
    "    expanded_image = cv2.copyMakeBorder(input_im,0,0,0,input_im.shape[1]+300,cv2.BORDER_CONSTANT,value=(0,0,0))\n",
    "    img_width = input_im.shape[1]\n",
    "    \n",
    "    for (i,predition) in enumerate(predictions):\n",
    "        string = str(predition[1]) + \" \" + str(predition[2])\n",
    "        cv2.putText(expanded_image,str(name),(img_width+50,50),\n",
    "                    cv2.FONT_HERSHEY_COMPLEX_SMALL,\n",
    "                   2,(0,255,0),1)\n",
    "        cv2.putText(expanded_image,string,(img_width+50,50+(i+1)*50),\n",
    "                   cv2.FONT_HERSHEY_COMPLEX_SMALL,2,(0,255,0),1)\n",
    "        cv2.imshow(name,expanded_image)"
   ]
  },
  {
   "cell_type": "code",
   "execution_count": 59,
   "metadata": {},
   "outputs": [],
   "source": [
    "from os import listdir\n",
    "from os.path import isfile,join\n",
    "\n",
    "path = 'test_image/'\n",
    "file_names = [f for f in listdir(path) if isfile(join(path,f))]\n",
    "\n",
    "for file in file_names:\n",
    "    \n",
    "    # image for testing\n",
    "    img = image.load_img(path+file,target_size=(224,224))\n",
    "    x = image.img_to_array(img)\n",
    "    x = np.expand_dims(x,axis=0)\n",
    "    x = preprocess_input(x)\n",
    "    \n",
    "    #image for show \n",
    "    img2 = cv2.imread(path+file)\n",
    "    imageL = cv2.resize(img2,None,fx=.5,fy=.5,interpolation=cv2.INTER_CUBIC)\n",
    "    \n",
    "    # predictions\n",
    "    preds = resnet_model.predict(x)\n",
    "    predictions = decode_predictions(preds,top=3)[0]\n",
    "    draw_test('prediction',predictions,imageL)\n",
    "    cv2.waitKey(0)\n",
    "    \n",
    "cv2.destroyAllWindows()"
   ]
  },
  {
   "cell_type": "markdown",
   "metadata": {},
   "source": [
    "## VGG16 and InceptionV3"
   ]
  },
  {
   "cell_type": "code",
   "execution_count": 61,
   "metadata": {},
   "outputs": [
    {
     "name": "stdout",
     "output_type": "stream",
     "text": [
      "Downloading data from https://storage.googleapis.com/tensorflow/keras-applications/inception_v3/inception_v3_weights_tf_dim_ordering_tf_kernels.h5\n",
      "96116736/96112376 [==============================] - 11s 0us/step\n"
     ]
    }
   ],
   "source": [
    "from keras.applications import vgg16,inception_v3\n",
    "\n",
    "vgg_model = vgg16.VGG16(weights='imagenet')\n",
    "\n",
    "inception_model = inception_v3.InceptionV3(weights='imagenet')"
   ]
  },
  {
   "cell_type": "code",
   "execution_count": 62,
   "metadata": {},
   "outputs": [],
   "source": [
    "def getImage(path, dim=224, inception = False):\n",
    "    img = image.load_img(path, target_size=(dim, dim))\n",
    "    x = image.img_to_array(img)\n",
    "    x = np.expand_dims(x, axis=0)\n",
    "    if inception:\n",
    "        x /= 255.\n",
    "        x -= 0.5\n",
    "        x *= 2.\n",
    "    else:\n",
    "        x = preprocess_input(x)\n",
    "    return x"
   ]
  },
  {
   "cell_type": "code",
   "execution_count": 63,
   "metadata": {},
   "outputs": [
    {
     "ename": "NameError",
     "evalue": "name 'mypath' is not defined",
     "output_type": "error",
     "traceback": [
      "\u001b[1;31m---------------------------------------------------------------------------\u001b[0m",
      "\u001b[1;31mNameError\u001b[0m                                 Traceback (most recent call last)",
      "\u001b[1;32m<ipython-input-63-8ff93ab0d203>\u001b[0m in \u001b[0;36m<module>\u001b[1;34m\u001b[0m\n\u001b[0;32m      5\u001b[0m \u001b[1;32mfor\u001b[0m \u001b[0mfile\u001b[0m \u001b[1;32min\u001b[0m \u001b[0mfile_names\u001b[0m\u001b[1;33m:\u001b[0m\u001b[1;33m\u001b[0m\u001b[1;33m\u001b[0m\u001b[0m\n\u001b[0;32m      6\u001b[0m     \u001b[1;31m#img = image.load_img(mypath+file, target_size=(dim, dim))\u001b[0m\u001b[1;33m\u001b[0m\u001b[1;33m\u001b[0m\u001b[1;33m\u001b[0m\u001b[0m\n\u001b[1;32m----> 7\u001b[1;33m     \u001b[0mx\u001b[0m \u001b[1;33m=\u001b[0m \u001b[0mgetImage\u001b[0m\u001b[1;33m(\u001b[0m\u001b[0mmypath\u001b[0m\u001b[1;33m+\u001b[0m\u001b[0mfile\u001b[0m\u001b[1;33m,\u001b[0m \u001b[1;36m229\u001b[0m\u001b[1;33m)\u001b[0m\u001b[1;33m\u001b[0m\u001b[1;33m\u001b[0m\u001b[0m\n\u001b[0m\u001b[0;32m      8\u001b[0m     \u001b[1;31m#load image using opencv\u001b[0m\u001b[1;33m\u001b[0m\u001b[1;33m\u001b[0m\u001b[1;33m\u001b[0m\u001b[0m\n\u001b[0;32m      9\u001b[0m     \u001b[0mimg2\u001b[0m \u001b[1;33m=\u001b[0m \u001b[0mcv2\u001b[0m\u001b[1;33m.\u001b[0m\u001b[0mimread\u001b[0m\u001b[1;33m(\u001b[0m\u001b[0mmypath\u001b[0m\u001b[1;33m+\u001b[0m\u001b[0mfile\u001b[0m\u001b[1;33m)\u001b[0m\u001b[1;33m\u001b[0m\u001b[1;33m\u001b[0m\u001b[0m\n",
      "\u001b[1;31mNameError\u001b[0m: name 'mypath' is not defined"
     ]
    }
   ],
   "source": [
    "# Get images located in ./images folder    \n",
    "file_names = [f for f in listdir(path) if isfile(join(path, f))]\n",
    "\n",
    "# Loop through images run them through our classifer\n",
    "for file in file_names:\n",
    "    #img = image.load_img(mypath+file, target_size=(dim, dim))\n",
    "    x = getImage(path+file, 229)\n",
    "    #load image using opencv\n",
    "    img2 = cv2.imread(path+file)\n",
    "    imageL = cv2.resize(img2, None, fx=.5, fy=.5, interpolation = cv2.INTER_CUBIC) \n",
    "    \n",
    "    # Get VGG16 Predictions\n",
    "    x = getImage(path+file, 224)\n",
    "    preds_vgg_model = vgg_model.predict(x)\n",
    "    preditions_vgg = decode_predictions(preds_vgg_model, top=3)[0]\n",
    "    draw_test(\"VGG16 Predictions\", preditions_vgg, imageL) \n",
    "    \n",
    "    # Get Inception_V3 Predictions\n",
    "    x = getImage(mypath+file, 299, inception = True)\n",
    "    preds_inception = inception_model.predict(x)\n",
    "    preditions_inception = decode_predictions(preds_inception, top=3)[0]\n",
    "    draw_test(\"Inception_V3 Predictions\", preditions_inception, imageL) \n",
    "\n",
    "    # Get ResNet50 Predictions\n",
    "    x = getImage(mypath+file, 224)\n",
    "    preds_resnet = resnet_model.predict(x)\n",
    "    preditions_resnet = decode_predictions(preds_resnet, top=3)[0]\n",
    "    draw_test(\"ResNet50 Predictions\", preditions_resnet, imageL) \n",
    "    \n",
    "    cv2.waitKey(0)\n",
    "\n",
    "cv2.destroyAllWindows()\n"
   ]
  },
  {
   "cell_type": "code",
   "execution_count": null,
   "metadata": {},
   "outputs": [],
   "source": []
  }
 ],
 "metadata": {
  "kernelspec": {
   "display_name": "Python 3",
   "language": "python",
   "name": "python3"
  },
  "language_info": {
   "codemirror_mode": {
    "name": "ipython",
    "version": 3
   },
   "file_extension": ".py",
   "mimetype": "text/x-python",
   "name": "python",
   "nbconvert_exporter": "python",
   "pygments_lexer": "ipython3",
   "version": "3.8.3"
  }
 },
 "nbformat": 4,
 "nbformat_minor": 4
}
