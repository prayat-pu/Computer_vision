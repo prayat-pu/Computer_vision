{
 "cells": [
  {
   "cell_type": "code",
   "execution_count": 6,
   "metadata": {},
   "outputs": [
    {
     "name": "stdout",
     "output_type": "stream",
     "text": [
      "all file in folder is  3002\n"
     ]
    }
   ],
   "source": [
    "from os import listdir\n",
    "from os.path import isfile,join\n",
    "\n",
    "mypath = '../../../../data_for_computer_vision/datasets/catsvsdogs/images/'\n",
    "\n",
    "file_names = [f for f in listdir(mypath) if isfile(join(mypath,f))]\n",
    "\n",
    "print('all file in folder is ',len(file_names))"
   ]
  },
  {
   "cell_type": "markdown",
   "metadata": {},
   "source": [
    "## -> split data to Train/Validate dataset\n",
    "- keep labels\n",
    "- resizing image to witdth * height\n",
    "- use 1000 dog and 1000 cat to training data\n",
    "- our validate dataset we're going to use 500 of each class\n",
    "- dog = 1, cat = 0\n",
    "\n",
    "train_path = ../../../../data_for_computer_vision/datasets/catsvsdogs/train (for my computer)\n",
    "test_path  = ../../../../data_for_computer_vision/datasets/catsvsdogs/test"
   ]
  },
  {
   "cell_type": "code",
   "execution_count": 1,
   "metadata": {},
   "outputs": [],
   "source": [
    "import cv2\n",
    "import numpy as np\n",
    "import sys\n",
    "import os\n",
    "import shutil"
   ]
  },
  {
   "cell_type": "code",
   "execution_count": 2,
   "metadata": {},
   "outputs": [],
   "source": [
    "def make_dir(directory):\n",
    "    if os.path.exists(directory):\n",
    "        shutil.rmtree(directory) # shutil.rmtree is delete entire directory tree\n",
    "    os.makedirs(directory)"
   ]
  },
  {
   "cell_type": "code",
   "execution_count": 3,
   "metadata": {},
   "outputs": [],
   "source": [
    "def get_zero(number):\n",
    "    if len(str(number)) == 2: # this line mean number have two digit\n",
    "        return \"0\"\n",
    "    elif len(str(number)) ==1:#number has one digit\n",
    "        return \"00\"\n",
    "    else:\n",
    "        return \"\" # number have 3 digits"
   ]
  },
  {
   "cell_type": "code",
   "execution_count": 8,
   "metadata": {},
   "outputs": [
    {
     "name": "stdout",
     "output_type": "stream",
     "text": [
      "Training and Test Data Extraction Complete!!\n"
     ]
    }
   ],
   "source": [
    "dog_count = 0\n",
    "cat_count = 0\n",
    "\n",
    "training_size = 1000\n",
    "test_size = 500\n",
    "\n",
    "training_images = []\n",
    "training_labels = []\n",
    "test_images = []\n",
    "test_label = []\n",
    "\n",
    "size = (150,150)\n",
    "\n",
    "dog_dir_train = '../../../../data_for_computer_vision/datasets/catsvsdogs/train/dogs/'\n",
    "dog_dir_val = '../../../../data_for_computer_vision/datasets/catsvsdogs/test/dogs/'\n",
    "cat_dir_train = '../../../../data_for_computer_vision/datasets/catsvsdogs/train/cats/'\n",
    "cat_dir_val = '../../../../data_for_computer_vision/datasets/catsvsdogs/test/cats/'\n",
    "\n",
    "#create folder \n",
    "make_dir(dog_dir_train)\n",
    "make_dir(dog_dir_val)\n",
    "make_dir(cat_dir_train)\n",
    "make_dir(cat_dir_val)\n",
    "\n",
    "for i,file in enumerate(file_names):\n",
    "    image = cv2.imread(mypath+file)\n",
    "    image = cv2.resize(image,size,interpolation=cv2.INTER_CUBIC)\n",
    "    if file_names[i][0] == 'd':  # if first letter equal d \n",
    "        dog_count += 1\n",
    "        if dog_count <= training_size:\n",
    "            training_images.append(image)\n",
    "            training_labels.append(1)\n",
    "            zeros = get_zero(dog_count)\n",
    "            cv2.imwrite(dog_dir_train+'dog'+zeros+str(dog_count)+'.jpg',image)\n",
    "        elif dog_count > training_size and dog_count <= training_size + test_size:\n",
    "            test_images.append(image)\n",
    "            test_label.append(1)\n",
    "            zeros = get_zero(dog_count-1000) # subtract with dog training size\n",
    "            cv2.imwrite(dog_dir_val+'dog'+zeros+str(dog_count-1000)+'.jpg',image)\n",
    "            \n",
    "    elif file_names[i][0] == 'c':\n",
    "        cat_count += 1\n",
    "        if cat_count <= training_size:\n",
    "            training_images.append(image)\n",
    "            training_labels.append(0)\n",
    "            zeros = get_zero(cat_count)\n",
    "            cv2.imwrite(cat_dir_train+zeros+str(cat_count)+'.jpg',image)\n",
    "        elif cat_count> training_size and cat_count <= training_size + test_size:\n",
    "            test_images.append(image)\n",
    "            test_label.append(0)\n",
    "            zeros = get_zero(cat_count-1000)\n",
    "            cv2.imwrite(cat_dir_val+zeros+str(cat_count-1000)+'.jpg',image)\n",
    "        \n",
    "print('Training and Test Data Extraction Complete!!')"
   ]
  },
  {
   "cell_type": "markdown",
   "metadata": {},
   "source": [
    "## Save image list to NPZ files"
   ]
  },
  {
   "cell_type": "code",
   "execution_count": 9,
   "metadata": {},
   "outputs": [],
   "source": [
    "np.savez('cats_vs_dogs_training_data.npz',np.array(training_images))\n",
    "np.savez('cats_vs_dogs_training_label.npz',np.array(training_labels))\n",
    "np.savez('cats_vs_dogs_testing_data.npz',np.array(test_images))\n",
    "np.savez('cats_vs_dogs_testing_label.npz',np.array(test_label))"
   ]
  },
  {
   "cell_type": "code",
   "execution_count": 17,
   "metadata": {},
   "outputs": [],
   "source": [
    "def load_data_training_and_test(dataset_name):\n",
    "    npzfile = np.load(dataset_name+'_training_data.npz')\n",
    "    train = npzfile['arr_0']\n",
    "    \n",
    "    npzfile = np.load(dataset_name+'_training_label.npz')\n",
    "    train_labels = npzfile['arr_0']\n",
    "    \n",
    "    npzfile = np.load(dataset_name+'_testing_data.npz')\n",
    "    test = npzfile['arr_0']\n",
    "    \n",
    "    npzfile = np.load(dataset_name+'_testing_label.npz')\n",
    "    test_labels = npzfile['arr_0']\n",
    "    return (train,train_labels),(test,test_labels)"
   ]
  },
  {
   "cell_type": "markdown",
   "metadata": {},
   "source": [
    "## view some load image"
   ]
  },
  {
   "cell_type": "code",
   "execution_count": 13,
   "metadata": {},
   "outputs": [
    {
     "name": "stdout",
     "output_type": "stream",
     "text": [
      "0-cat\n",
      "1-dog\n",
      "2-dog\n",
      "3-cat\n",
      "4-dog\n",
      "5-dog\n",
      "6-dog\n",
      "7-cat\n",
      "8-dog\n",
      "9-cat\n"
     ]
    }
   ],
   "source": [
    "for i in range(10):\n",
    "    random_number = np.random.randint(0,len(training_images))\n",
    "    cv2.imshow(\"image_\"+str(i),training_images[random_number])\n",
    "    \n",
    "    if training_labels[random_number] == 0:\n",
    "        print(str(i)+'-cat')\n",
    "    elif training_labels[random_number] == 1:\n",
    "        print(str(i)+'-dog')\n",
    "    \n",
    "    cv2.waitKey(0)\n",
    "    \n",
    "cv2.destroyAllWindows()"
   ]
  },
  {
   "cell_type": "markdown",
   "metadata": {},
   "source": [
    "# Prepare our dataset before pass into model"
   ]
  },
  {
   "cell_type": "code",
   "execution_count": 18,
   "metadata": {},
   "outputs": [
    {
     "name": "stdout",
     "output_type": "stream",
     "text": [
      "x train shape is  (2000, 150, 150, 3)\n",
      "y train shape is  (2000,)\n",
      "x test shape is  (1000, 150, 150, 3)\n",
      "y test shape is (1000,)\n"
     ]
    }
   ],
   "source": [
    "dataset_npz_name = 'cats_vs_dogs'\n",
    "(x_train,y_train),(x_test,y_test) = load_data_training_and_test(dataset_npz_name)\n",
    "print('x train shape is ',x_train.shape)\n",
    "print('y train shape is ',y_train.shape)\n",
    "print('x test shape is ',x_test.shape)\n",
    "print('y test shape is',y_test.shape)"
   ]
  },
  {
   "cell_type": "code",
   "execution_count": 20,
   "metadata": {},
   "outputs": [
    {
     "name": "stdout",
     "output_type": "stream",
     "text": [
      "x train shape is  (2000, 150, 150, 3)\n",
      "y train shape is  (2000, 1)\n",
      "x test shape is  (1000, 150, 150, 3)\n",
      "y test shape is (1000, 1)\n"
     ]
    }
   ],
   "source": [
    "# change format of y train, y test to (2000,1) and (1000,1) respectively\n",
    "y_train = y_train.reshape(y_train.shape[0],1)\n",
    "y_test = y_test.reshape(y_test.shape[0],1)\n",
    "\n",
    "#change type to float32 \n",
    "x_train = x_train.astype('float32')\n",
    "x_test = x_test.astype('float32')\n",
    "\n",
    "#normalize image\n",
    "x_train /= 255\n",
    "x_test /= 255\n",
    "\n",
    "print('x train shape is ',x_train.shape)\n",
    "print('y train shape is ',y_train.shape)\n",
    "print('x test shape is ',x_test.shape)\n",
    "print('y test shape is',y_test.shape)"
   ]
  },
  {
   "cell_type": "markdown",
   "metadata": {},
   "source": [
    "## create model without data augmented"
   ]
  },
  {
   "cell_type": "code",
   "execution_count": 22,
   "metadata": {},
   "outputs": [
    {
     "name": "stdout",
     "output_type": "stream",
     "text": [
      "Model: \"sequential_1\"\n",
      "_________________________________________________________________\n",
      "Layer (type)                 Output Shape              Param #   \n",
      "=================================================================\n",
      "conv2d_3 (Conv2D)            (None, 148, 148, 32)      896       \n",
      "_________________________________________________________________\n",
      "max_pooling2d_3 (MaxPooling2 (None, 74, 74, 32)        0         \n",
      "_________________________________________________________________\n",
      "conv2d_4 (Conv2D)            (None, 72, 72, 32)        9248      \n",
      "_________________________________________________________________\n",
      "max_pooling2d_4 (MaxPooling2 (None, 36, 36, 32)        0         \n",
      "_________________________________________________________________\n",
      "conv2d_5 (Conv2D)            (None, 34, 34, 64)        18496     \n",
      "_________________________________________________________________\n",
      "max_pooling2d_5 (MaxPooling2 (None, 17, 17, 64)        0         \n",
      "_________________________________________________________________\n",
      "flatten_1 (Flatten)          (None, 18496)             0         \n",
      "_________________________________________________________________\n",
      "dense_2 (Dense)              (None, 64)                1183808   \n",
      "_________________________________________________________________\n",
      "dropout_1 (Dropout)          (None, 64)                0         \n",
      "_________________________________________________________________\n",
      "dense_3 (Dense)              (None, 1)                 65        \n",
      "=================================================================\n",
      "Total params: 1,212,513\n",
      "Trainable params: 1,212,513\n",
      "Non-trainable params: 0\n",
      "_________________________________________________________________\n"
     ]
    }
   ],
   "source": [
    "from keras.models import Sequential\n",
    "from keras.layers import Dense,Conv2D,MaxPooling2D,Dropout,Flatten\n",
    "\n",
    "\n",
    "batch_size = 32\n",
    "epochs = 10 \n",
    "\n",
    "img_rows = x_train[0].shape[0]\n",
    "img_cols =x_train[0].shape[1]\n",
    "input_shape = (img_rows,img_cols,3)\n",
    "\n",
    "model = Sequential()\n",
    "model.add(Conv2D(32,(3,3),input_shape=input_shape,activation='relu'))\n",
    "model.add(MaxPooling2D(pool_size=(2,2)))\n",
    "\n",
    "model.add(Conv2D(32,(3,3),activation='relu'))\n",
    "model.add(MaxPooling2D(pool_size=(2,2)))\n",
    "\n",
    "model.add(Conv2D(64,(3,3),activation='relu'))\n",
    "model.add(MaxPooling2D(pool_size=(2,2)))\n",
    "\n",
    "model.add(Flatten())\n",
    "model.add(Dense(64,activation='relu'))\n",
    "model.add(Dropout(0.25))\n",
    "model.add(Dense(1,activation='sigmoid'))\n",
    "\n",
    "model.compile(loss='binary_crossentropy',\n",
    "             optimizer='Adam',\n",
    "             metrics=['accuracy'])\n",
    "\n",
    "model.summary()"
   ]
  },
  {
   "cell_type": "markdown",
   "metadata": {},
   "source": [
    "### Training model without data augmented dataset"
   ]
  },
  {
   "cell_type": "code",
   "execution_count": 23,
   "metadata": {},
   "outputs": [
    {
     "name": "stdout",
     "output_type": "stream",
     "text": [
      "Epoch 1/10\n",
      "63/63 [==============================] - 4s 70ms/step - loss: 0.6984 - accuracy: 0.5230 - val_loss: 0.6899 - val_accuracy: 0.5080\n",
      "Epoch 2/10\n",
      "63/63 [==============================] - 3s 48ms/step - loss: 0.6715 - accuracy: 0.5740 - val_loss: 0.6544 - val_accuracy: 0.6070\n",
      "Epoch 3/10\n",
      "63/63 [==============================] - 3s 44ms/step - loss: 0.6240 - accuracy: 0.6385 - val_loss: 0.6310 - val_accuracy: 0.6470\n",
      "Epoch 4/10\n",
      "63/63 [==============================] - 3s 44ms/step - loss: 0.5844 - accuracy: 0.6860 - val_loss: 0.6110 - val_accuracy: 0.6750\n",
      "Epoch 5/10\n",
      "63/63 [==============================] - 3s 44ms/step - loss: 0.5168 - accuracy: 0.7375 - val_loss: 0.5739 - val_accuracy: 0.6840\n",
      "Epoch 6/10\n",
      "63/63 [==============================] - 3s 43ms/step - loss: 0.4567 - accuracy: 0.7840 - val_loss: 0.6363 - val_accuracy: 0.6670\n",
      "Epoch 7/10\n",
      "63/63 [==============================] - 3s 43ms/step - loss: 0.3843 - accuracy: 0.8300 - val_loss: 0.5575 - val_accuracy: 0.7240\n",
      "Epoch 8/10\n",
      "63/63 [==============================] - 3s 44ms/step - loss: 0.3241 - accuracy: 0.8605 - val_loss: 0.6155 - val_accuracy: 0.7090\n",
      "Epoch 9/10\n",
      "63/63 [==============================] - 3s 45ms/step - loss: 0.2525 - accuracy: 0.8970 - val_loss: 0.6454 - val_accuracy: 0.7050\n",
      "Epoch 10/10\n",
      "63/63 [==============================] - 3s 43ms/step - loss: 0.1851 - accuracy: 0.9240 - val_loss: 0.6979 - val_accuracy: 0.7280\n",
      "32/32 [==============================] - 1s 16ms/step - loss: 0.6979 - accuracy: 0.7280\n",
      "test loss is  0.697856605052948\n",
      "test accuracy is  0.7279999852180481\n"
     ]
    }
   ],
   "source": [
    "history = model.fit(x_train,y_train,\n",
    "                   batch_size=batch_size,\n",
    "                   epochs=epochs,\n",
    "                   verbose=1,\n",
    "                   validation_data=(x_test,y_test),\n",
    "                   shuffle=True)\n",
    "\n",
    "model.save('cats_vs_dogs_without_data_augmented.h5')\n",
    "\n",
    "scores = model.evaluate(x_test,y_test)\n",
    "print('test loss is ',scores[0])\n",
    "print('test accuracy is ',scores[1])"
   ]
  },
  {
   "cell_type": "markdown",
   "metadata": {},
   "source": [
    "### test our classifier"
   ]
  },
  {
   "cell_type": "code",
   "execution_count": 27,
   "metadata": {},
   "outputs": [
    {
     "data": {
      "text/plain": [
       "(150, 150, 3)"
      ]
     },
     "execution_count": 27,
     "metadata": {},
     "output_type": "execute_result"
    }
   ],
   "source": [
    "x_test[0].shape[:]"
   ]
  },
  {
   "cell_type": "code",
   "execution_count": 39,
   "metadata": {},
   "outputs": [
    {
     "name": "stdout",
     "output_type": "stream",
     "text": [
      "[1]\n",
      "[0]\n",
      "[0]\n",
      "[0]\n",
      "[0]\n",
      "[1]\n",
      "[0]\n",
      "[1]\n",
      "[0]\n",
      "[1]\n"
     ]
    }
   ],
   "source": [
    "from keras.models import load_model\n",
    "\n",
    "classifier = load_model('cats_vs_dogs_without_data_augmented.h5')\n",
    "\n",
    "def draw_test(name,pred,input_im):\n",
    "    class_ = ''\n",
    "    if pred[0] == 0:\n",
    "        class_ = 'cat'\n",
    "    elif pred[0] == 0:\n",
    "        class_ = 'dog'\n",
    "    input_im = input_im.reshape(input_im.shape[1:])\n",
    "\n",
    "    image = cv2.resize(input_im,None,fx=2,fy=2,interpolation=cv2.INTER_CUBIC)\n",
    "    \n",
    "    expanded = cv2.copyMakeBorder(image,0,0,0,image.shape[1]*2,cv2.BORDER_CONSTANT,value=(0,0,0))\n",
    "    cv2.putText(expanded\n",
    "                ,class_\n",
    "                ,(image.shape[1]+image.shape[1]//2,image.shape[0]//2)\n",
    "                ,cv2.FONT_HERSHEY_COMPLEX\n",
    "                ,2,(0,255,0),2\n",
    "               )\n",
    "    cv2.imshow(name,expanded)\n",
    "    \n",
    "    \n",
    "    \n",
    "\n",
    "test_shape = (1,x_test[0].shape[0],x_test[0].shape[1],x_test[0].shape[2])\n",
    "    \n",
    "for i in range(10):\n",
    "    random_number = np.random.randint(0,len(x_test))\n",
    "    image = x_test[random_number]\n",
    "    image = image.reshape(test_shape)\n",
    "    pred = classifier.predict_classes(image,1,verbose=0)[0]\n",
    "    print(pred)\n",
    "    draw_test('prediction',pred,image)\n",
    "    cv2.waitKey(0)\n",
    "cv2.destroyAllWindows()\n",
    "    "
   ]
  },
  {
   "cell_type": "code",
   "execution_count": null,
   "metadata": {},
   "outputs": [],
   "source": []
  }
 ],
 "metadata": {
  "kernelspec": {
   "display_name": "Python 3",
   "language": "python",
   "name": "python3"
  },
  "language_info": {
   "codemirror_mode": {
    "name": "ipython",
    "version": 3
   },
   "file_extension": ".py",
   "mimetype": "text/x-python",
   "name": "python",
   "nbconvert_exporter": "python",
   "pygments_lexer": "ipython3",
   "version": "3.8.3"
  }
 },
 "nbformat": 4,
 "nbformat_minor": 4
}
