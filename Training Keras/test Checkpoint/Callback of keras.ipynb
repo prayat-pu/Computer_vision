{
 "cells": [
  {
   "cell_type": "code",
   "execution_count": 10,
   "metadata": {},
   "outputs": [
    {
     "name": "stdout",
     "output_type": "stream",
     "text": [
      "Model: \"sequential_3\"\n",
      "_________________________________________________________________\n",
      "Layer (type)                 Output Shape              Param #   \n",
      "=================================================================\n",
      "conv2d_6 (Conv2D)            (None, 26, 26, 32)        320       \n",
      "_________________________________________________________________\n",
      "conv2d_7 (Conv2D)            (None, 24, 24, 64)        18496     \n",
      "_________________________________________________________________\n",
      "dropout_6 (Dropout)          (None, 24, 24, 64)        0         \n",
      "_________________________________________________________________\n",
      "flatten_3 (Flatten)          (None, 36864)             0         \n",
      "_________________________________________________________________\n",
      "dense_6 (Dense)              (None, 128)               4718720   \n",
      "_________________________________________________________________\n",
      "dropout_7 (Dropout)          (None, 128)               0         \n",
      "_________________________________________________________________\n",
      "dense_7 (Dense)              (None, 10)                1290      \n",
      "=================================================================\n",
      "Total params: 4,738,826\n",
      "Trainable params: 4,738,826\n",
      "Non-trainable params: 0\n",
      "_________________________________________________________________\n"
     ]
    }
   ],
   "source": [
    "from keras.datasets import mnist\n",
    "from keras.utils import to_categorical\n",
    "from keras.models import Sequential\n",
    "from keras.layers import Conv2D,MaxPool2D,Flatten,Dense,Dropout\n",
    "from keras.callbacks import ModelCheckpoint,EarlyStopping\n",
    "\n",
    "\n",
    "batch_size =64\n",
    "epochs = 5\n",
    "#load data\n",
    "(x_train,y_train),(x_test,y_test)=mnist.load_data()\n",
    "\n",
    "#prepare dataset\n",
    "img_rows = x_train[0].shape[0]\n",
    "img_cols = x_train[0].shape[1]\n",
    "\n",
    "x_train = x_train.reshape(x_train.shape[0],img_rows,img_cols,1)\n",
    "x_test = x_test.reshape(x_test.shape[0],img_rows,img_cols,1)\n",
    "\n",
    "input_shape = (img_rows,img_cols,1)\n",
    "\n",
    "x_train = x_train.astype('float32')\n",
    "x_test = x_test.astype('float32')\n",
    "\n",
    "x_train /= 255\n",
    "x_test /= 255\n",
    "\n",
    "y_train = to_categorical(y_train)\n",
    "y_test = to_categorical(y_test)\n",
    "\n",
    "num_class = y_test.shape[1]\n",
    "\n",
    "\n",
    "#create model\n",
    "model = Sequential()\n",
    "model.add(Conv2D(32,(3,3),input_shape=input_shape,activation='relu'))\n",
    "model.add(Conv2D(64,(3,3),input_shape=input_shape,activation='relu'))\n",
    "model.add(Dropout(0.25))\n",
    "model.add(Flatten())\n",
    "model.add(Dense(128,activation='relu'))\n",
    "model.add(Dropout(0.5))\n",
    "model.add(Dense(num_class,activation='softmax'))\n",
    "\n",
    "model.compile(loss='categorical_crossentropy',optimizer = 'Adam',\n",
    "             metrics=['accuracy'])\n",
    "\n",
    "checkpoint = ModelCheckpoint(\"MNIST_Checkpoint.h5\",monitor='val_loss',\n",
    "                            mode='min',save_best_only=True,verbose=1)\n",
    "\n",
    "callbacks = [checkpoint]\n",
    "model.summary()"
   ]
  },
  {
   "cell_type": "code",
   "execution_count": 6,
   "metadata": {},
   "outputs": [
    {
     "name": "stdout",
     "output_type": "stream",
     "text": [
      "Epoch 1/5\n",
      "\n",
      "Epoch 00001: val_loss improved from inf to 0.04603, saving model to MNIST_Checkpoint.h5\n",
      "938/938 - 10s - loss: 0.1847 - accuracy: 0.9438 - val_loss: 0.0460 - val_accuracy: 0.9848\n",
      "Epoch 2/5\n",
      "\n",
      "Epoch 00002: val_loss improved from 0.04603 to 0.03693, saving model to MNIST_Checkpoint.h5\n",
      "938/938 - 10s - loss: 0.0742 - accuracy: 0.9775 - val_loss: 0.0369 - val_accuracy: 0.9870\n",
      "Epoch 3/5\n",
      "\n",
      "Epoch 00003: val_loss improved from 0.03693 to 0.03277, saving model to MNIST_Checkpoint.h5\n",
      "938/938 - 10s - loss: 0.0527 - accuracy: 0.9836 - val_loss: 0.0328 - val_accuracy: 0.9887\n",
      "Epoch 4/5\n",
      "\n",
      "Epoch 00004: val_loss improved from 0.03277 to 0.02939, saving model to MNIST_Checkpoint.h5\n",
      "938/938 - 10s - loss: 0.0413 - accuracy: 0.9874 - val_loss: 0.0294 - val_accuracy: 0.9906\n",
      "Epoch 5/5\n",
      "\n",
      "Epoch 00005: val_loss did not improve from 0.02939\n",
      "938/938 - 10s - loss: 0.0334 - accuracy: 0.9893 - val_loss: 0.0296 - val_accuracy: 0.9907\n",
      "313/313 [==============================] - 1s 3ms/step - loss: 0.0296 - accuracy: 0.9907\n",
      "test loss = 0.029626 and test_val = 0.990700\n"
     ]
    }
   ],
   "source": [
    "history = model.fit(x_train,y_train,batch_size=batch_size,\n",
    "                   epochs=epochs,verbose=2,validation_data=(x_test,y_test),\n",
    "                   callbacks=callbacks)\n",
    "score = model.evaluate(x_test,y_test)\n",
    "\n",
    "print('test loss = %f and test_val = %f'%(score[0],score[1]))"
   ]
  },
  {
   "cell_type": "markdown",
   "metadata": {},
   "source": [
    "# Add Early stopping to callbacks"
   ]
  },
  {
   "cell_type": "code",
   "execution_count": 9,
   "metadata": {},
   "outputs": [],
   "source": [
    "earlystop = EarlyStopping(monitor='val_loss',\n",
    "                         min_delta=0,\n",
    "                         patience=3,\n",
    "                         verbose=1,\n",
    "                         restore_best_weights=True)\n",
    "\n",
    "callbacks = [earlystop,checkpoint]"
   ]
  },
  {
   "cell_type": "code",
   "execution_count": null,
   "metadata": {},
   "outputs": [
    {
     "name": "stdout",
     "output_type": "stream",
     "text": [
      "Epoch 1/5\n",
      "\n",
      "Epoch 00001: val_loss improved from inf to 0.04761, saving model to MNIST_Checkpoint.h5\n",
      "938/938 - 10s - loss: 0.1858 - accuracy: 0.9442 - val_loss: 0.0476 - val_accuracy: 0.9837\n",
      "Epoch 2/5\n",
      "\n",
      "Epoch 00002: val_loss improved from 0.04761 to 0.03451, saving model to MNIST_Checkpoint.h5\n",
      "938/938 - 10s - loss: 0.0752 - accuracy: 0.9774 - val_loss: 0.0345 - val_accuracy: 0.9882\n",
      "Epoch 3/5\n",
      "\n",
      "Epoch 00003: val_loss improved from 0.03451 to 0.03210, saving model to MNIST_Checkpoint.h5\n",
      "938/938 - 11s - loss: 0.0537 - accuracy: 0.9835 - val_loss: 0.0321 - val_accuracy: 0.9894\n",
      "Epoch 4/5\n",
      "\n",
      "Epoch 00004: val_loss improved from 0.03210 to 0.03186, saving model to MNIST_Checkpoint.h5\n",
      "938/938 - 10s - loss: 0.0407 - accuracy: 0.9870 - val_loss: 0.0319 - val_accuracy: 0.9903\n",
      "Epoch 5/5\n"
     ]
    }
   ],
   "source": [
    "history = model.fit(x_train,y_train,\n",
    "                   batch_size=batch_size,\n",
    "                   epochs=epochs,\n",
    "                   callbacks=callbacks,\n",
    "                   verbose=2,\n",
    "                   validation_data=(x_test,y_test))\n",
    "\n",
    "score = model.evaluate(x_test,y_test)\n",
    "\n",
    "print('test loss = %f and test_val = %f'%(score[0],score[1]))"
   ]
  },
  {
   "cell_type": "code",
   "execution_count": null,
   "metadata": {},
   "outputs": [],
   "source": [
    "from tensorflow.keras.callbacks import ReduceLROnPlateau\n",
    "\n",
    "reduce_lr = ReduceLROnPlateau(monitor = 'val_loss', factor = 0.2, patience = 3, verbose = 1, min_delta = 0.0001)"
   ]
  }
 ],
 "metadata": {
  "kernelspec": {
   "display_name": "Python 3",
   "language": "python",
   "name": "python3"
  },
  "language_info": {
   "codemirror_mode": {
    "name": "ipython",
    "version": 3
   },
   "file_extension": ".py",
   "mimetype": "text/x-python",
   "name": "python",
   "nbconvert_exporter": "python",
   "pygments_lexer": "ipython3",
   "version": "3.8.3"
  }
 },
 "nbformat": 4,
 "nbformat_minor": 4
}
